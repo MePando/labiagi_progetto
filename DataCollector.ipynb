{
 "cells": [
  {
   "cell_type": "markdown",
   "id": "2d57e0f6",
   "metadata": {},
   "source": [
    "# 1. Import Dependencies"
   ]
  },
  {
   "cell_type": "markdown",
   "id": "c80e92d5",
   "metadata": {},
   "source": [
    " 1.1 Checking if opencv is installed"
   ]
  },
  {
   "cell_type": "code",
   "execution_count": 1,
   "id": "4fbb9fda",
   "metadata": {},
   "outputs": [
    {
     "name": "stdout",
     "output_type": "stream",
     "text": [
      "Requirement already satisfied: opencv-python in /home/jrhin/anaconda3/lib/python3.8/site-packages (4.5.3.56)\r\n",
      "Requirement already satisfied: numpy>=1.17.3 in /home/jrhin/anaconda3/lib/python3.8/site-packages (from opencv-python) (1.19.5)\r\n"
     ]
    }
   ],
   "source": [
    "!pip install opencv-python"
   ]
  },
  {
   "cell_type": "markdown",
   "id": "7b215fc0",
   "metadata": {},
   "source": [
    "1.2 Importing the packages"
   ]
  },
  {
   "cell_type": "code",
   "execution_count": 7,
   "id": "beb36391",
   "metadata": {},
   "outputs": [],
   "source": [
    "# Import opencv\n",
    "import cv2\n",
    "\n",
    "# Import descriptor\n",
    "import uuid\n",
    "\n",
    "#Import Operating System\n",
    "import os"
   ]
  },
  {
   "cell_type": "markdown",
   "id": "c5c447c6",
   "metadata": {},
   "source": [
    "# 2. Setup folders for collecting images"
   ]
  },
  {
   "cell_type": "code",
   "execution_count": 8,
   "id": "b42d4769",
   "metadata": {},
   "outputs": [],
   "source": [
    "IMAGES_PATH = os.path.join('images', 'collectedimages')\n",
    "TRAIN_PATH = os.path.join('images', 'train')\n",
    "TEST_PATH = os.path.join('images', 'test')"
   ]
  },
  {
   "cell_type": "code",
   "execution_count": 12,
   "id": "e48b5fbd",
   "metadata": {},
   "outputs": [],
   "source": [
    "if os.name == 'posix':\n",
    "    if not os.path.exists(IMAGES_PATH):\n",
    "        !mkdir -p {IMAGES_PATH}\n",
    "    if not os.path.exists(TRAIN_PATH):\n",
    "        !mkdir -p {TRAIN_PATH}\n",
    "    if not os.path.exists(TEST_PATH):\n",
    "        !mkdir -p {TEST_PATH}\n",
    "elif os.name == 'nt':\n",
    "    if not os.path.exists(IMAGES_PATH):\n",
    "        !mkdir {IMAGES_PATH}\n",
    "    if not os.path.exists(TRAIN_PATH):\n",
    "        !mkdir {TRAIN_PATH}\n",
    "    if not os.path.exists(TEST_PATH):\n",
    "        !mkdir {TEST_PATH}"
   ]
  },
  {
   "cell_type": "markdown",
   "id": "7e50ea5d",
   "metadata": {},
   "source": [
    "# 3. Collecting Images"
   ]
  },
  {
   "cell_type": "code",
   "execution_count": 5,
   "id": "84a1aae5",
   "metadata": {},
   "outputs": [
    {
     "name": "stdout",
     "output_type": "stream",
     "text": [
      "How many pictures do you want? 5\n"
     ]
    }
   ],
   "source": [
    "while True:\n",
    "  try:\n",
    "     number_imgs = int(input(\"How many pictures do you want? \"))\n",
    "  except ValueError:\n",
    "     print(\"Not a number!\")\n",
    "     continue\n",
    "  else:\n",
    "     break "
   ]
  },
  {
   "cell_type": "code",
   "execution_count": 6,
   "id": "f29381aa",
   "metadata": {},
   "outputs": [
    {
     "name": "stdout",
     "output_type": "stream",
     "text": [
      "Starting to collecting images...\n",
      "Collecting image 0\n",
      "Collecting image 1\n",
      "Collecting image 2\n",
      "Collecting image 3\n",
      "Collecting image 4\n"
     ]
    }
   ],
   "source": [
    "#capturing webcam\n",
    "cap = cv2.VideoCapture(14) # In my case is 14, look for you case!\n",
    "width = int(cap.get(cv2.CAP_PROP_FRAME_WIDTH))\n",
    "height = int(cap.get(cv2.CAP_PROP_FRAME_HEIGHT))\n",
    "\n",
    "if cap.isOpened():\n",
    "    print('Starting to collecting images...')\n",
    "    for imgnum in range(int(number_imgs)):\n",
    "        print('Collecting image {}'.format(imgnum))\n",
    "        ret, frame = cap.read()\n",
    "        imgname = os.path.join(IMAGES_PATH,'{}.jpg'.format(str(uuid.uuid1())))\n",
    "        cv2.imwrite(imgname, frame)\n",
    "        cv2.imshow('frame', frame)\n",
    "\n",
    "        if cv2.waitKey(1) & 0xFF == ord('q'):\n",
    "            break\n",
    "\n",
    "cap.release()\n",
    "cv2.destroyAllWindows()"
   ]
  },
  {
   "cell_type": "code",
   "execution_count": null,
   "id": "15444776",
   "metadata": {},
   "outputs": [],
   "source": []
  }
 ],
 "metadata": {
  "kernelspec": {
   "display_name": "Python 3.6.9 64-bit",
   "language": "python",
   "name": "python369jvsc74a57bd031f2aee4e71d21fbe5cf8b01ff0e069b9275f58929596ceb00d14d90e3e16cd6"
  },
  "language_info": {
   "codemirror_mode": {
    "name": "ipython",
    "version": 3
   },
   "file_extension": ".py",
   "mimetype": "text/x-python",
   "name": "python",
   "nbconvert_exporter": "python",
   "pygments_lexer": "ipython3",
   "version": "3.6.9"
  }
 },
 "nbformat": 4,
 "nbformat_minor": 5
}
