{
 "cells": [
  {
   "cell_type": "markdown",
   "id": "cabd8a0f",
   "metadata": {},
   "source": [
    "# Data Collector"
   ]
  },
  {
   "cell_type": "markdown",
   "id": "2d57e0f6",
   "metadata": {},
   "source": [
    "## 1. Import Dependencies"
   ]
  },
  {
   "cell_type": "markdown",
   "id": "c80e92d5",
   "metadata": {},
   "source": [
    " ### 1.1 Checking if opencv is installed"
   ]
  },
  {
   "cell_type": "code",
   "execution_count": 1,
   "id": "4fbb9fda",
   "metadata": {},
   "outputs": [
    {
     "name": "stdout",
     "output_type": "stream",
     "text": [
      "Requirement already satisfied: opencv-python in /home/jrhin/anaconda3/lib/python3.8/site-packages (4.5.3.56)\r\n",
      "Requirement already satisfied: numpy>=1.17.3 in /home/jrhin/anaconda3/lib/python3.8/site-packages (from opencv-python) (1.19.5)\r\n"
     ]
    }
   ],
   "source": [
    "!pip install opencv-python"
   ]
  },
  {
   "cell_type": "markdown",
   "id": "7b215fc0",
   "metadata": {},
   "source": [
    "### 1.2 Importing the packages"
   ]
  },
  {
   "cell_type": "code",
   "execution_count": 2,
   "id": "beb36391",
   "metadata": {},
   "outputs": [],
   "source": [
    "# Import opencv\n",
    "import cv2\n",
    "\n",
    "# Import descriptor\n",
    "import uuid\n",
    "\n",
    "#Import Operating System\n",
    "import os"
   ]
  },
  {
   "cell_type": "markdown",
   "id": "c5c447c6",
   "metadata": {},
   "source": [
    "## 2. Setup folders for collecting images"
   ]
  },
  {
   "cell_type": "markdown",
   "id": "4fd36a9b",
   "metadata": {},
   "source": [
    "### 2.1 Defining paths"
   ]
  },
  {
   "cell_type": "code",
   "execution_count": 3,
   "id": "b42d4769",
   "metadata": {},
   "outputs": [],
   "source": [
    "IMAGES_PATH = os.path.join('Tensorflow', 'workspace', 'images')\n",
    "TRAIN_PATH = os.path.join('Tensorflow', 'workspace', 'images', 'train')\n",
    "TEST_PATH = os.path.join('Tensorflow', 'workspace', 'images', 'test')\n",
    "SCRIPTS_PREP_PATH = os.path.join('Tensorflow', 'scripts', 'preprocessing')"
   ]
  },
  {
   "cell_type": "markdown",
   "id": "2a2c88fe",
   "metadata": {},
   "source": [
    "### 2.2 Creating folders"
   ]
  },
  {
   "cell_type": "code",
   "execution_count": 4,
   "id": "e48b5fbd",
   "metadata": {},
   "outputs": [],
   "source": [
    "if os.name == 'posix':\n",
    "    if not os.path.exists(TRAIN_PATH):\n",
    "        !mkdir -p {TRAIN_PATH}\n",
    "    if not os.path.exists(TEST_PATH):\n",
    "        !mkdir -p {TEST_PATH}\n",
    "elif os.name == 'nt':\n",
    "    if not os.path.exists(TRAIN_PATH):\n",
    "        !mkdir {TRAIN_PATH}\n",
    "    if not os.path.exists(TEST_PATH):\n",
    "        !mkdir {TEST_PATH}"
   ]
  },
  {
   "cell_type": "markdown",
   "id": "7e50ea5d",
   "metadata": {},
   "source": [
    "## 3. Collecting Images"
   ]
  },
  {
   "cell_type": "markdown",
   "id": "4f92635f",
   "metadata": {},
   "source": [
    "### 3.1 How many images we're going to collect"
   ]
  },
  {
   "cell_type": "code",
   "execution_count": 5,
   "id": "84a1aae5",
   "metadata": {},
   "outputs": [
    {
     "name": "stdout",
     "output_type": "stream",
     "text": [
      "How many pictures do you want? 40\n"
     ]
    }
   ],
   "source": [
    "while True:\n",
    "  try:\n",
    "     numImgs = int(input(\"How many pictures do you want? \"))\n",
    "  except ValueError:\n",
    "     print(\"Not a number!\")\n",
    "     continue\n",
    "  else:\n",
    "    if numImgs == 0:\n",
    "        print(\"More than zero...\")\n",
    "        continue\n",
    "    break "
   ]
  },
  {
   "cell_type": "markdown",
   "id": "5f97ba88",
   "metadata": {},
   "source": [
    "### 3.2 Collecting images"
   ]
  },
  {
   "cell_type": "code",
   "execution_count": 6,
   "id": "f29381aa",
   "metadata": {},
   "outputs": [
    {
     "name": "stdout",
     "output_type": "stream",
     "text": [
      "Select: masked or unmasked: unmasked\n",
      "Trying to open the camera...\n",
      "Camera open!\n",
      "Starting to collecting 40 images...\n",
      "Collecting image 1\t[COLLECTED]\n",
      "Collecting image 2\t[COLLECTED]\n",
      "Collecting image 3\t[COLLECTED]\n",
      "Collecting image 4\t[COLLECTED]\n",
      "Collecting image 5\t[COLLECTED]\n",
      "Collecting image 6\t[COLLECTED]\n",
      "Collecting image 7\t[COLLECTED]\n",
      "Collecting image 8\t[COLLECTED]\n",
      "Collecting image 9\t[COLLECTED]\n",
      "Collecting image 10\t[COLLECTED]\n",
      "Collecting image 11\t[COLLECTED]\n",
      "Collecting image 12\t[COLLECTED]\n",
      "Collecting image 13\t[COLLECTED]\n",
      "Collecting image 14\t[COLLECTED]\n",
      "Collecting image 15\t[COLLECTED]\n",
      "Collecting image 16\t[COLLECTED]\n",
      "Collecting image 17\t[COLLECTED]\n",
      "Collecting image 18\t[COLLECTED]\n",
      "Collecting image 19\t[COLLECTED]\n",
      "Collecting image 20\t[COLLECTED]\n",
      "Collecting image 21\t[COLLECTED]\n",
      "Collecting image 22\t[COLLECTED]\n",
      "Collecting image 23\t[COLLECTED]\n",
      "Collecting image 24\t[COLLECTED]\n",
      "Collecting image 25\t[COLLECTED]\n",
      "Collecting image 26\t[COLLECTED]\n",
      "Collecting image 27\t[COLLECTED]\n",
      "Collecting image 28\t[COLLECTED]\n",
      "Collecting image 29\t[COLLECTED]\n",
      "Collecting image 30\t[COLLECTED]\n",
      "Collecting image 31\t[COLLECTED]\n",
      "Collecting image 32\t[COLLECTED]\n",
      "Collecting image 33\t[COLLECTED]\n",
      "Collecting image 34\t[COLLECTED]\n",
      "Collecting image 35\t[COLLECTED]\n",
      "Collecting image 36\t[COLLECTED]\n",
      "Collecting image 37\t[COLLECTED]\n",
      "Collecting image 38\t[COLLECTED]\n",
      "Collecting image 39\t[COLLECTED]\n",
      "Collecting image 40\t[COLLECTED]\n",
      "Collected 40 images\t[OK]\n"
     ]
    }
   ],
   "source": [
    "#what type of images we're going to collect\n",
    "while True:\n",
    "    typeImgs = input(\"Select: masked or unmasked: \")\n",
    "    if typeImgs == \"masked\" or typeImgs == \"unmasked\":\n",
    "        break\n",
    "    print(\"Please select one of the possibilities...\")\n",
    "    continue\n",
    "\n",
    "#capturing webcam\n",
    "print('Trying to open the camera...')\n",
    "cap = cv2.VideoCapture(14) # In my case is 14, look for you case!\n",
    "print('Camera open!')\n",
    "\n",
    "try:\n",
    "    #using haarcascade_frontalface_default.xml to detect the face\n",
    "    facedetect = cv2.CascadeClassifier(os.path.join(SCRIPTS_PREP_PATH,'haarcascade_frontalface_default.xml'))\n",
    "\n",
    "    #to check if we collect all the images\n",
    "    imgCollected = 0\n",
    "    collected = False\n",
    "\n",
    "    if cap.isOpened():\n",
    "        print(\"Starting to collecting {} images...\".format(numImgs))\n",
    "        for imgnum in range(int(numImgs)):\n",
    "            print('Collecting image {}'.format(imgnum+1), end='\\t')\n",
    "            ret, frame = cap.read()\n",
    "            faces=facedetect.detectMultiScale(frame,1.3, 5, 0, [400, 400], [600, 600])\n",
    "            for x,y,w,h in faces:\n",
    "                imgname = os.path.join(IMAGES_PATH,'{}.{}.jpg'.format(typeImgs,str(uuid.uuid1())))\n",
    "                cv2.imwrite(imgname, frame[y:y+h,x:x+w])\n",
    "                collected = True\n",
    "                imgCollected+=1\n",
    "                cv2.rectangle(frame, (x,y), (x+w, y+h), (0,255,0), 3)\n",
    "            if collected:\n",
    "                print(\"[COLLECTED]\")\n",
    "                collected = False\n",
    "            else:\n",
    "                print(\"[NOT COLLECTED]\")\n",
    "            cv2.imshow('frame', frame)\n",
    "            if cv2.waitKey(1) & 0xFF == ord('q'):\n",
    "                break\n",
    "        print(\"Collected {} images\".format(imgCollected), end='\\t')\n",
    "        if imgCollected == numImgs:\n",
    "            print(\"[OK]\")\n",
    "        else:\n",
    "            print(\"[SOME MISSED]\")\n",
    "\n",
    "    cap.release()\n",
    "    cv2.destroyAllWindows()\n",
    "except Exception as inst:\n",
    "    print()\n",
    "    print(\"Exception occurred: {} {}\".format(type(inst), inst))\n",
    "    cap.release()\n",
    "    cv2.destroyAllWindows()"
   ]
  },
  {
   "cell_type": "markdown",
   "id": "0f6fd2e9",
   "metadata": {},
   "source": [
    "## 4. Labeling images"
   ]
  },
  {
   "cell_type": "code",
   "execution_count": null,
   "id": "9764bf0e",
   "metadata": {},
   "outputs": [],
   "source": []
  }
 ],
 "metadata": {
  "kernelspec": {
   "display_name": "Python 3.6.9 64-bit",
   "language": "python",
   "name": "python369jvsc74a57bd031f2aee4e71d21fbe5cf8b01ff0e069b9275f58929596ceb00d14d90e3e16cd6"
  },
  "language_info": {
   "codemirror_mode": {
    "name": "ipython",
    "version": 3
   },
   "file_extension": ".py",
   "mimetype": "text/x-python",
   "name": "python",
   "nbconvert_exporter": "python",
   "pygments_lexer": "ipython3",
   "version": "3.6.9"
  }
 },
 "nbformat": 4,
 "nbformat_minor": 5
}
