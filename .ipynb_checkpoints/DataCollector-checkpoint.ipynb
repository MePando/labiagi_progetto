{
 "cells": [
  {
   "cell_type": "markdown",
   "id": "0a889c53",
   "metadata": {},
   "source": [
    "# Data Collector"
   ]
  },
  {
   "cell_type": "markdown",
   "id": "2d57e0f6",
   "metadata": {},
   "source": [
    "## 1. Preliminaries"
   ]
  },
  {
   "cell_type": "markdown",
   "id": "7b215fc0",
   "metadata": {},
   "source": [
    "### 1.1 Importing the packages"
   ]
  },
  {
   "cell_type": "code",
   "execution_count": 1,
   "id": "beb36391",
   "metadata": {},
   "outputs": [],
   "source": [
    "# Import opencv\n",
    "import cv2\n",
    "\n",
    "# Import descriptor\n",
    "import uuid\n",
    "\n",
    "#Import Operating System\n",
    "import os"
   ]
  },
  {
   "cell_type": "markdown",
   "id": "c5c447c6",
   "metadata": {},
   "source": [
    "## 2. Setup folders for collecting images"
   ]
  },
  {
   "cell_type": "markdown",
   "id": "43ff3a20",
   "metadata": {},
   "source": [
    "### 2.1 Defining paths"
   ]
  },
  {
   "cell_type": "code",
   "execution_count": 22,
   "id": "b42d4769",
   "metadata": {},
   "outputs": [],
   "source": [
    "IMAGES_PATH = os.path.join('Tensorflow', 'workspace', 'images')\n",
    "TRAIN_PATH = os.path.join('Tensorflow', 'workspace', 'images', 'train')\n",
    "TEST_PATH = os.path.join('Tensorflow', 'workspace', 'images', 'test')\n",
    "SCRIPTS_PREP_PATH = os.path.join('Tensorflow', 'scripts', 'preprocessing')\n",
    "ANNOTATION_PATH = os.path.join('Tensorflow', 'workspace', 'annotations')"
   ]
  },
  {
   "cell_type": "markdown",
   "id": "88e6c70e",
   "metadata": {},
   "source": [
    "### 2.2 Creating folders"
   ]
  },
  {
   "cell_type": "code",
   "execution_count": 21,
   "id": "e48b5fbd",
   "metadata": {},
   "outputs": [],
   "source": [
    "if os.name == 'posix':\n",
    "    if not os.path.exists(TRAIN_PATH):\n",
    "        !mkdir -p {TRAIN_PATH}\n",
    "    if not os.path.exists(TEST_PATH):\n",
    "        !mkdir -p {TEST_PATH}\n",
    "elif os.name == 'nt':\n",
    "    if not os.path.exists(TRAIN_PATH):\n",
    "        !mkdir {TRAIN_PATH}\n",
    "    if not os.path.exists(TEST_PATH):\n",
    "        !mkdir {TEST_PATH}"
   ]
  },
  {
   "cell_type": "markdown",
   "id": "7e50ea5d",
   "metadata": {},
   "source": [
    "## 3. Collecting Images"
   ]
  },
  {
   "cell_type": "markdown",
   "id": "6f8e89d4",
   "metadata": {},
   "source": [
    "### 3.1 How many images we're going to collect"
   ]
  },
  {
   "cell_type": "code",
   "execution_count": 5,
   "id": "84a1aae5",
   "metadata": {},
   "outputs": [
    {
     "name": "stdout",
     "output_type": "stream",
     "text": [
      "How many pictures do you want? 50\n"
     ]
    }
   ],
   "source": [
    "while True:\n",
    "  try:\n",
    "     numImgs = int(input(\"How many pictures do you want? \"))\n",
    "  except ValueError:\n",
    "     print(\"Not a number!\")\n",
    "     continue\n",
    "  else:\n",
    "    if numImgs == 0:\n",
    "        print(\"More than zero...\")\n",
    "        continue\n",
    "    break "
   ]
  },
  {
   "cell_type": "markdown",
   "id": "ac7edf50",
   "metadata": {},
   "source": [
    "### 3.2 Collecting images"
   ]
  },
  {
   "cell_type": "code",
   "execution_count": 7,
   "id": "f29381aa",
   "metadata": {},
   "outputs": [
    {
     "name": "stdout",
     "output_type": "stream",
     "text": [
      "Select: masked or unmasked: masked\n",
      "Trying to open the camera...\n",
      "Camera open!\n",
      "Starting to collecting 50 images...\n",
      "Collecting image 1\t[NOT COLLECTED]\n",
      "Collecting image 2\t[COLLECTED]\n",
      "Collecting image 3\t[COLLECTED]\n",
      "Collecting image 4\t[COLLECTED]\n",
      "Collecting image 5\t[COLLECTED]\n",
      "Collecting image 6\t[NOT COLLECTED]\n",
      "Collecting image 7\t[NOT COLLECTED]\n",
      "Collecting image 8\t[NOT COLLECTED]\n",
      "Collecting image 9\t[NOT COLLECTED]\n",
      "Collecting image 10\t[COLLECTED]\n",
      "Collecting image 11\t[NOT COLLECTED]\n",
      "Collecting image 12\t[NOT COLLECTED]\n",
      "Collecting image 13\t[COLLECTED]\n",
      "Collecting image 14\t[COLLECTED]\n",
      "Collecting image 15\t[COLLECTED]\n",
      "Collecting image 16\t[COLLECTED]\n",
      "Collecting image 17\t[NOT COLLECTED]\n",
      "Collecting image 18\t[NOT COLLECTED]\n",
      "Collecting image 19\t[NOT COLLECTED]\n",
      "Collecting image 20\t[COLLECTED]\n",
      "Collecting image 21\t[NOT COLLECTED]\n",
      "Collecting image 22\t[COLLECTED]\n",
      "Collecting image 23\t[COLLECTED]\n",
      "Collecting image 24\t[COLLECTED]\n",
      "Collecting image 25\t[COLLECTED]\n",
      "Collecting image 26\t[COLLECTED]\n",
      "Collecting image 27\t[COLLECTED]\n",
      "Collecting image 28\t[NOT COLLECTED]\n",
      "Collecting image 29\t[COLLECTED]\n",
      "Collecting image 30\t[NOT COLLECTED]\n",
      "Collecting image 31\t[COLLECTED]\n",
      "Collecting image 32\t[NOT COLLECTED]\n",
      "Collecting image 33\t[NOT COLLECTED]\n",
      "Collecting image 34\t[NOT COLLECTED]\n",
      "Collecting image 35\t[NOT COLLECTED]\n",
      "Collecting image 36\t[NOT COLLECTED]\n",
      "Collecting image 37\t[NOT COLLECTED]\n",
      "Collecting image 38\t[NOT COLLECTED]\n",
      "Collecting image 39\t[COLLECTED]\n",
      "Collecting image 40\t[NOT COLLECTED]\n",
      "Collecting image 41\t[COLLECTED]\n",
      "Collecting image 42\t[COLLECTED]\n",
      "Collecting image 43\t[COLLECTED]\n",
      "Collecting image 44\t[COLLECTED]\n",
      "Collecting image 45\t[COLLECTED]\n",
      "Collecting image 46\t[COLLECTED]\n",
      "Collecting image 47\t[COLLECTED]\n",
      "Collecting image 48\t[NOT COLLECTED]\n",
      "Collecting image 49\t[COLLECTED]\n",
      "Collecting image 50\t[COLLECTED]\n",
      "Collected 28 images\t[SOME MISSED]\n"
     ]
    }
   ],
   "source": [
    "#what type of images we're going to collect\n",
    "while True:\n",
    "    typeImgs = input(\"Select: masked or unmasked: \")\n",
    "    if typeImgs == \"masked\" or typeImgs == \"unmasked\":\n",
    "        break\n",
    "    print(\"Please select one of the possibilities...\")\n",
    "    continue\n",
    "\n",
    "#capturing webcam\n",
    "print('Trying to open the camera...')\n",
    "cap = cv2.VideoCapture(14) # In my case is 14, look for you case!\n",
    "print('Camera open!')\n",
    "\n",
    "try:\n",
    "    #using haarcascade_frontalface_default.xml to detect the face\n",
    "    facedetect = cv2.CascadeClassifier(os.path.join(SCRIPTS_PREP_PATH,'haarcascade_frontalface_default.xml'))\n",
    "\n",
    "    #to check if we collect all the images\n",
    "    imgCollected = 0\n",
    "    collected = False\n",
    "\n",
    "    if cap.isOpened():\n",
    "        print(\"Starting to collecting {} images...\".format(numImgs))\n",
    "        for imgnum in range(int(numImgs)):\n",
    "            print('Collecting image {}'.format(imgnum+1), end='\\t')\n",
    "            ret, frame = cap.read()\n",
    "            faces=facedetect.detectMultiScale(frame,1.3, 5, 0, [400, 400], [600, 600])\n",
    "            for x,y,w,h in faces:\n",
    "                imgName = os.path.join(IMAGES_PATH,'{}.{}.jpg'.format(typeImgs,str(uuid.uuid1())))\n",
    "                cv2.imwrite(imgName, frame[y:y+h,x:x+w])\n",
    "                collected = True\n",
    "                imgCollected+=1\n",
    "                cv2.rectangle(frame, (x,y), (x+w, y+h), (0,255,0), 3)\n",
    "            if collected:\n",
    "                print(\"[COLLECTED]\")\n",
    "                collected = False\n",
    "            else:\n",
    "                print(\"[NOT COLLECTED]\")\n",
    "            cv2.imshow('frame', frame)\n",
    "            if cv2.waitKey(1) & 0xFF == ord('q'):\n",
    "                break\n",
    "        print(\"Collected {} images\".format(imgCollected), end='\\t')\n",
    "        if imgCollected == numImgs:\n",
    "            print(\"[OK]\")\n",
    "        else:\n",
    "            print(\"[SOME MISSED]\")\n",
    "\n",
    "    cap.release()\n",
    "    cv2.destroyAllWindows()\n",
    "except Exception as inst:\n",
    "    print()\n",
    "    print(\"Exception occurred: {} {}\".format(type(inst), inst))\n",
    "    cap.release()\n",
    "    cv2.destroyAllWindows()"
   ]
  },
  {
   "cell_type": "markdown",
   "id": "baaefd93",
   "metadata": {},
   "source": [
    "## 4. Labeling images"
   ]
  },
  {
   "cell_type": "markdown",
   "id": "7be78134",
   "metadata": {},
   "source": [
    "### 4.1 Partitioning the images into train and test folders"
   ]
  },
  {
   "cell_type": "code",
   "execution_count": 17,
   "id": "a5ff4296",
   "metadata": {
    "scrolled": false
   },
   "outputs": [],
   "source": [
    "!python {SCRIPTS_PREP_PATH + '/partition_dataset.py'} -i {IMAGES_PATH} -r 0.1"
   ]
  },
  {
   "cell_type": "markdown",
   "id": "8507b2a6",
   "metadata": {},
   "source": [
    "### 4.2 Importing the packages"
   ]
  },
  {
   "cell_type": "code",
   "execution_count": 4,
   "id": "0cc6861f",
   "metadata": {},
   "outputs": [],
   "source": [
    "import numpy as np\n",
    "from pathlib import Path\n",
    "import xml.etree.cElementTree as ET\n",
    "from PIL import Image\n",
    "import glob"
   ]
  },
  {
   "cell_type": "markdown",
   "id": "3c766b57",
   "metadata": {},
   "source": [
    "### 4.3 Making a .xml for all the images"
   ]
  },
  {
   "cell_type": "code",
   "execution_count": 19,
   "id": "e0f94d37",
   "metadata": {},
   "outputs": [],
   "source": [
    "#for images in the directory test\n",
    "for pathImage in glob.glob(os.path.join(TEST_PATH, '*.jpg')):\n",
    "    \n",
    "    pathImage = Path(pathImage)\n",
    "    image = np.array(Image.open(pathImage).convert('RGB'))\n",
    "\n",
    "    annotation = ET.Element('annotation')\n",
    "    ET.SubElement(annotation, 'folder').text = str(pathImage.parent.name)\n",
    "    ET.SubElement(annotation, 'filename').text = str(pathImage.name)\n",
    "    ET.SubElement(annotation, 'path').text = str(pathImage)\n",
    "\n",
    "    source = ET.SubElement(annotation, 'source')\n",
    "    ET.SubElement(source, 'database').text = 'Unknown'\n",
    "\n",
    "    size = ET.SubElement(annotation, 'size')\n",
    "    ET.SubElement(size, 'width').text = str (image.shape[1])\n",
    "    ET.SubElement(size, 'height').text = str(image.shape[0])\n",
    "    ET.SubElement(size, 'depth').text = str(image.shape[2])\n",
    "\n",
    "    ET.SubElement(annotation, 'segmented').text = '0'\n",
    "\n",
    "    object = ET.SubElement(annotation, 'object')\n",
    "    ET.SubElement(object, 'name').text = pathImage.name.split('.')[0]\n",
    "    ET.SubElement(object, 'pose').text = 'Unspecified'\n",
    "    ET.SubElement(object, 'truncated').text = '0'\n",
    "    ET.SubElement(object, 'difficult').text = '0'\n",
    "\n",
    "    bndbox = ET.SubElement(object, 'bndbox')\n",
    "    ET.SubElement(bndbox, 'xmin').text = str(image.shape[1]//8)\n",
    "    ET.SubElement(bndbox, 'ymin').text = str(image.shape[0]//3)\n",
    "    ET.SubElement(bndbox, 'xmax').text = str((image.shape[1]*7)//8)\n",
    "    ET.SubElement(bndbox, 'ymax').text = str(image.shape[0])\n",
    "\n",
    "    tree = ET.ElementTree(annotation)\n",
    "    xmlFileName = pathImage.parent / (pathImage.name.split('.')[0]+\".\"+pathImage.name.split('.')[1]+'.xml')\n",
    "    tree.write(xmlFileName)\n",
    "\n",
    "#for images in the directory train\n",
    "for pathImage in glob.glob(os.path.join(TRAIN_PATH, '*.jpg')):\n",
    "    \n",
    "    pathImage = Path(pathImage)\n",
    "    image = np.array(Image.open(pathImage).convert('RGB'))\n",
    "\n",
    "    annotation = ET.Element('annotation')\n",
    "    ET.SubElement(annotation, 'folder').text = str(pathImage.parent.name)\n",
    "    ET.SubElement(annotation, 'filename').text = str(pathImage.name)\n",
    "    ET.SubElement(annotation, 'path').text = str(pathImage)\n",
    "\n",
    "    source = ET.SubElement(annotation, 'source')\n",
    "    ET.SubElement(source, 'database').text = 'Unknown'\n",
    "\n",
    "    size = ET.SubElement(annotation, 'size')\n",
    "    ET.SubElement(size, 'width').text = str (image.shape[1])\n",
    "    ET.SubElement(size, 'height').text = str(image.shape[0])\n",
    "    ET.SubElement(size, 'depth').text = str(image.shape[2])\n",
    "\n",
    "    ET.SubElement(annotation, 'segmented').text = '0'\n",
    "\n",
    "    object = ET.SubElement(annotation, 'object')\n",
    "    ET.SubElement(object, 'name').text = pathImage.name.split('.')[0]\n",
    "    ET.SubElement(object, 'pose').text = 'Unspecified'\n",
    "    ET.SubElement(object, 'truncated').text = '0'\n",
    "    ET.SubElement(object, 'difficult').text = '0'\n",
    "\n",
    "    bndbox = ET.SubElement(object, 'bndbox')\n",
    "    ET.SubElement(bndbox, 'xmin').text = str(image.shape[1]//8)\n",
    "    ET.SubElement(bndbox, 'ymin').text = str(image.shape[0]//3)\n",
    "    ET.SubElement(bndbox, 'xmax').text = str((image.shape[1]*7)//8)\n",
    "    ET.SubElement(bndbox, 'ymax').text = str(image.shape[0])\n",
    "\n",
    "    tree = ET.ElementTree(annotation)\n",
    "    xmlFileName = pathImage.parent / (pathImage.name.split('.')[0]+\".\"+pathImage.name.split('.')[1]+'.xml')\n",
    "    tree.write(xmlFileName)"
   ]
  },
  {
   "cell_type": "markdown",
   "id": "f282153a",
   "metadata": {},
   "source": [
    "## 5. Generating TF records"
   ]
  },
  {
   "cell_type": "code",
   "execution_count": 26,
   "id": "0b188dfe",
   "metadata": {
    "scrolled": true
   },
   "outputs": [
    {
     "name": "stdout",
     "output_type": "stream",
     "text": [
      "Successfully created the TFRecord file: Tensorflow/workspace/annotations/train.record\n",
      "Successfully created the TFRecord file: Tensorflow/workspace/annotations/test.record\n"
     ]
    }
   ],
   "source": [
    "!python {SCRIPTS_PREP_PATH+'/generate_tfrecord.py'} -x {TRAIN_PATH} -l {ANNOTATION_PATH+'/label_map.pbtxt'} -o {ANNOTATION_PATH+'/train.record'}\n",
    "!python {SCRIPTS_PREP_PATH+'/generate_tfrecord.py'} -x {TEST_PATH} -l {ANNOTATION_PATH+'/label_map.pbtxt'} -o {ANNOTATION_PATH+'/test.record'}"
   ]
  },
  {
   "cell_type": "markdown",
   "id": "a25e3330",
   "metadata": {},
   "source": [
    "## 6. Update config file for Transfer Learning"
   ]
  },
  {
   "cell_type": "code",
   "execution_count": 44,
   "id": "6fdeac53",
   "metadata": {
    "scrolled": false
   },
   "outputs": [
    {
     "ename": "ModuleNotFoundError",
     "evalue": "No module named 'tensorflow'",
     "output_type": "error",
     "traceback": [
      "\u001b[0;31m---------------------------------------------------------------------------\u001b[0m",
      "\u001b[0;31mModuleNotFoundError\u001b[0m                       Traceback (most recent call last)",
      "\u001b[0;32m<ipython-input-44-fd28d0a39720>\u001b[0m in \u001b[0;36m<module>\u001b[0;34m\u001b[0m\n\u001b[0;32m----> 1\u001b[0;31m \u001b[0;32mimport\u001b[0m \u001b[0mtensorflow\u001b[0m \u001b[0;32mas\u001b[0m \u001b[0mtf\u001b[0m\u001b[0;34m\u001b[0m\u001b[0;34m\u001b[0m\u001b[0m\n\u001b[0m\u001b[1;32m      2\u001b[0m \u001b[0;32mfrom\u001b[0m \u001b[0mobject_detection\u001b[0m\u001b[0;34m.\u001b[0m\u001b[0mutils\u001b[0m \u001b[0;32mimport\u001b[0m \u001b[0mconfig_util\u001b[0m\u001b[0;34m\u001b[0m\u001b[0;34m\u001b[0m\u001b[0m\n\u001b[1;32m      3\u001b[0m \u001b[0;32mfrom\u001b[0m \u001b[0mobject_detection\u001b[0m\u001b[0;34m.\u001b[0m\u001b[0mprotos\u001b[0m \u001b[0;32mimport\u001b[0m \u001b[0mpipeline_pb2\u001b[0m\u001b[0;34m\u001b[0m\u001b[0;34m\u001b[0m\u001b[0m\n\u001b[1;32m      4\u001b[0m \u001b[0;32mfrom\u001b[0m \u001b[0mgoogle\u001b[0m\u001b[0;34m.\u001b[0m\u001b[0mprotobuf\u001b[0m \u001b[0;32mimport\u001b[0m \u001b[0mtext_format\u001b[0m\u001b[0;34m\u001b[0m\u001b[0;34m\u001b[0m\u001b[0m\n",
      "\u001b[0;31mModuleNotFoundError\u001b[0m: No module named 'tensorflow'"
     ]
    }
   ],
   "source": [
    "import tensorflow as tf\n",
    "from object_detection.utils import config_util\n",
    "from object_detection.protos import pipeline_pb2\n",
    "from google.protobuf import text_format"
   ]
  }
 ],
 "metadata": {
  "kernelspec": {
   "display_name": "Python 3.6.9 64-bit",
   "language": "python",
   "name": "python369jvsc74a57bd031f2aee4e71d21fbe5cf8b01ff0e069b9275f58929596ceb00d14d90e3e16cd6"
  },
  "language_info": {
   "codemirror_mode": {
    "name": "ipython",
    "version": 3
   },
   "file_extension": ".py",
   "mimetype": "text/x-python",
   "name": "python",
   "nbconvert_exporter": "python",
   "pygments_lexer": "ipython3",
   "version": "3.6.9"
  }
 },
 "nbformat": 4,
 "nbformat_minor": 5
}
