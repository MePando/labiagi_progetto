{
 "cells": [
  {
   "cell_type": "markdown",
   "id": "b660e9d5",
   "metadata": {},
   "source": [
    "# 1. Import Dependencies"
   ]
  },
  {
   "cell_type": "markdown",
   "id": "8c9c51ab",
   "metadata": {},
   "source": [
    " 1.1 Checking if opencv is installed"
   ]
  },
  {
   "cell_type": "code",
   "execution_count": 1,
   "id": "5dcb5ee0",
   "metadata": {},
   "outputs": [
    {
     "name": "stdout",
     "output_type": "stream",
     "text": [
      "Requirement already satisfied: opencv-python in /home/jrhin/anaconda3/lib/python3.8/site-packages (4.5.3.56)\r\n",
      "Requirement already satisfied: numpy>=1.17.3 in /home/jrhin/anaconda3/lib/python3.8/site-packages (from opencv-python) (1.19.5)\r\n"
     ]
    }
   ],
   "source": [
    "!pip install opencv-python"
   ]
  },
  {
   "cell_type": "markdown",
   "id": "d290e39d",
   "metadata": {},
   "source": [
    "1.2 Importing the packages"
   ]
  },
  {
   "cell_type": "code",
   "execution_count": 2,
   "id": "d9f7a277",
   "metadata": {},
   "outputs": [],
   "source": [
    "# Import opencv\n",
    "import cv2\n",
    "\n",
    "# Import descriptor\n",
    "import uuid\n",
    "\n",
    "#Import Operating System\n",
    "import os"
   ]
  },
  {
   "cell_type": "markdown",
   "id": "17e20d4d",
   "metadata": {},
   "source": [
    "# 2. Setup collectedimages Folder"
   ]
  },
  {
   "cell_type": "code",
   "execution_count": 3,
   "id": "648a2e40",
   "metadata": {},
   "outputs": [],
   "source": [
    "IMAGES_PATH = os.path.join('images', 'collectedimages')"
   ]
  },
  {
   "cell_type": "code",
   "execution_count": 4,
   "id": "b732cde8",
   "metadata": {},
   "outputs": [],
   "source": [
    "if not os.path.exists(IMAGES_PATH):\n",
    "    if os.name == 'posix':\n",
    "        !mkdir -p {IMAGES_PATH}\n",
    "    if os.name == 'nt':\n",
    "         !mkdir {IMAGES_PATH}"
   ]
  },
  {
   "cell_type": "markdown",
   "id": "23de226b",
   "metadata": {},
   "source": [
    "# 3. Collecting Images"
   ]
  },
  {
   "cell_type": "code",
   "execution_count": 5,
   "id": "02b17e13",
   "metadata": {},
   "outputs": [
    {
     "name": "stdout",
     "output_type": "stream",
     "text": [
      "How many pictures do you want?5\n"
     ]
    }
   ],
   "source": [
    "number_imgs = input(\"How many pictures do you want?\")"
   ]
  },
  {
   "cell_type": "code",
   "execution_count": 6,
   "id": "5fbcb2ef",
   "metadata": {},
   "outputs": [],
   "source": [
    "#capturing webcam\n",
    "cap = cv2.VideoCapture(14) # In my case is 14, look for you case!\n",
    "width = int(cap.get(cv2.CAP_PROP_FRAME_WIDTH))\n",
    "height = int(cap.get(cv2.CAP_PROP_FRAME_HEIGHT))"
   ]
  },
  {
   "cell_type": "code",
   "execution_count": 8,
   "id": "e4696776",
   "metadata": {},
   "outputs": [
    {
     "name": "stdout",
     "output_type": "stream",
     "text": [
      "Starting to collecting images\n",
      "Collecting image 0\n",
      "Collecting image 1\n",
      "Collecting image 2\n",
      "Collecting image 3\n",
      "Collecting image 4\n"
     ]
    }
   ],
   "source": [
    "cap = cv2.VideoCapture(14)\n",
    "if cap.isOpened():\n",
    "    print('Starting to collecting images...')\n",
    "    for imgnum in range(int(number_imgs)):\n",
    "        print('Collecting image {}'.format(imgnum))\n",
    "        ret, frame = cap.read()\n",
    "        imgname = os.path.join(IMAGES_PATH,'{}.jpg'.format(str(uuid.uuid1())))\n",
    "        cv2.imwrite(imgname, frame)\n",
    "        cv2.imshow('frame', frame)\n",
    "\n",
    "        if cv2.waitKey(1) & 0xFF == ord('q'):\n",
    "            break\n",
    "\n",
    "cap.release()\n",
    "cv2.destroyAllWindows()"
   ]
  },
  {
   "cell_type": "code",
   "execution_count": null,
   "id": "5db3df15",
   "metadata": {},
   "outputs": [],
   "source": []
  }
 ],
 "metadata": {
  "kernelspec": {
   "display_name": "Python 3.6.9 64-bit",
   "language": "python",
   "name": "python369jvsc74a57bd031f2aee4e71d21fbe5cf8b01ff0e069b9275f58929596ceb00d14d90e3e16cd6"
  },
  "language_info": {
   "codemirror_mode": {
    "name": "ipython",
    "version": 3
   },
   "file_extension": ".py",
   "mimetype": "text/x-python",
   "name": "python",
   "nbconvert_exporter": "python",
   "pygments_lexer": "ipython3",
   "version": "3.6.9"
  }
 },
 "nbformat": 4,
 "nbformat_minor": 5
}
